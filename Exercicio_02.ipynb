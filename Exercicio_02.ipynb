{
  "nbformat": 4,
  "nbformat_minor": 0,
  "metadata": {
    "colab": {
      "name": "Exercicio_02.ipynb",
      "version": "0.3.2",
      "provenance": [],
      "collapsed_sections": []
    },
    "kernelspec": {
      "name": "python3",
      "display_name": "Python 3"
    }
  },
  "cells": [
    {
      "metadata": {
        "id": "jYElr-lNHzq5",
        "colab_type": "text"
      },
      "cell_type": "markdown",
      "source": [
        "## Imports"
      ]
    },
    {
      "metadata": {
        "id": "_XXm16fIH1ek",
        "colab_type": "code",
        "colab": {}
      },
      "cell_type": "code",
      "source": [
        "from selenium import webdriver\n",
        "from selenium.webdriver.support.ui import Select\n",
        "from selenium.webdriver.chrome.options import Options\n",
        "\n",
        "import requests\n",
        "from bs4 import BeautifulSoup"
      ],
      "execution_count": 0,
      "outputs": []
    },
    {
      "metadata": {
        "id": "ABlDSHG4H9gA",
        "colab_type": "text"
      },
      "cell_type": "markdown",
      "source": [
        "## Define the driver to navigator and find the html element to work"
      ]
    },
    {
      "metadata": {
        "id": "STCbE39ZH_jT",
        "colab_type": "code",
        "colab": {}
      },
      "cell_type": "code",
      "source": [
        "driver = webdriver.Chrome(executable_path=\"chromedriver_win32/chromedriver.exe\")\n",
        "url = 'https://forecast.weather.gov/MapClick.php?lat=41.8843&lon=-87.6324'\n",
        "driver.get(url)\n",
        "soup = BeautifulSoup(driver.page_source,'html.parser')\n",
        "table = soup.find('div', attrs={'id':'seven-day-forecast-container'})"
      ],
      "execution_count": 0,
      "outputs": []
    },
    {
      "metadata": {
        "id": "W-_1nG9RINKw",
        "colab_type": "text"
      },
      "cell_type": "markdown",
      "source": [
        "## Iteration inside the html elements"
      ]
    },
    {
      "metadata": {
        "id": "DA8l8fe1IOAj",
        "colab_type": "code",
        "colab": {}
      },
      "cell_type": "code",
      "source": [
        "table_body = table.find('ul').find_all('li')\n",
        "for row in table_body:\n",
        "    for p in row.find_all('p'):\n",
        "        print(p.text)"
      ],
      "execution_count": 0,
      "outputs": []
    }
  ]
}