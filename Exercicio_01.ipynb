{
  "nbformat": 4,
  "nbformat_minor": 0,
  "metadata": {
    "colab": {
      "name": "Exercicio-01.ipynb",
      "version": "0.3.2",
      "provenance": []
    },
    "kernelspec": {
      "name": "python3",
      "display_name": "Python 3"
    }
  },
  "cells": [
    {
      "metadata": {
        "id": "XNB6skHxd9jw",
        "colab_type": "text"
      },
      "cell_type": "markdown",
      "source": [
        "## Imports"
      ]
    },
    {
      "metadata": {
        "id": "DUN5soSneBII",
        "colab_type": "code",
        "colab": {}
      },
      "cell_type": "code",
      "source": [
        "import webbrowser\n",
        "from bs4 import BeautifulSoup\n",
        "import requests\n",
        "import pandas as pd"
      ],
      "execution_count": 0,
      "outputs": []
    },
    {
      "metadata": {
        "id": "-ZMSYGdbeFPY",
        "colab_type": "text"
      },
      "cell_type": "markdown",
      "source": [
        "## Source Page"
      ]
    },
    {
      "metadata": {
        "id": "AVG_V1HjeQQI",
        "colab_type": "code",
        "colab": {}
      },
      "cell_type": "code",
      "source": [
        "url = 'https://www.autolist.com.br/site/'\n",
        "page = requests.get(url)\n",
        "recipe = BeautifulSoup(page.text, 'html.parser')"
      ],
      "execution_count": 0,
      "outputs": []
    },
    {
      "metadata": {
        "id": "nWZTu3ZXkVeT",
        "colab_type": "text"
      },
      "cell_type": "markdown",
      "source": [
        "## Reading Data and Append Data"
      ]
    },
    {
      "metadata": {
        "id": "Xn8ux7ZbeYOY",
        "colab_type": "code",
        "colab": {}
      },
      "cell_type": "code",
      "source": [
        "my_list = []\n",
        "for card in recipe.find_all(\"div\",{'class':'service-wrapper'}):\n",
        "    my_list.append(card.find('img')['alt'])"
      ],
      "execution_count": 0,
      "outputs": []
    },
    {
      "metadata": {
        "id": "y-xkl1EbkolT",
        "colab_type": "text"
      },
      "cell_type": "markdown",
      "source": [
        "## Print Results"
      ]
    },
    {
      "metadata": {
        "id": "hxvrbHlTeckY",
        "colab_type": "code",
        "colab": {
          "base_uri": "https://localhost:8080/",
          "height": 54
        },
        "outputId": "a4c30906-05c2-4479-f277-7a8c852f6242"
      },
      "cell_type": "code",
      "source": [
        "print(my_list)"
      ],
      "execution_count": 9,
      "outputs": [
        {
          "output_type": "stream",
          "text": [
            "['Leilão', 'Perda Total', 'Roubo e Furto', 'Radar Securitário', 'Roubo Ativo', 'Renajud', 'Débitos', 'Agregados', 'Motor', 'Histórico de Gravames', 'Decodificador', 'Precificador', 'Salvados', 'Parecer Técnico de Leilão', 'Acidentes e Procedência', 'Radar Securitário']\n"
          ],
          "name": "stdout"
        }
      ]
    },
    {
      "metadata": {
        "id": "dTYoJWwUd705",
        "colab_type": "code",
        "colab": {}
      },
      "cell_type": "code",
      "source": [
        ""
      ],
      "execution_count": 0,
      "outputs": []
    }
  ]
}